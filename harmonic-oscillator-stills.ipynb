{
 "cells": [
  {
   "cell_type": "markdown",
   "metadata": {},
   "source": [
    "# Quantum Harmonic Oscillator Demonstration\n",
    "\n",
    "This notebook demonstrates how to use the `QuantumHarmonicOscillator` class in `qho.py`. It starts with a brief overview of the equations and moves rapidly toward using the `QuantumHarmonicOscillator` class to make plots.\n",
    "\n",
    "Citations:\n",
    "\n",
    "1. Atkins, P. W. & De Paula, J. Atkins’ Physical chemistry. (W.H. Freeman, 2006). Pages 290-207.\n",
    "2. [Vibration-Rotation Spectrum of HCl on HyperPhysics](http://hyperphysics.phy-astr.gsu.edu/hbase/molecule/vibrot.html#c2)\n"
   ]
  },
  {
   "cell_type": "code",
   "execution_count": 2,
   "metadata": {},
   "outputs": [],
   "source": [
    "import matplotlib.pyplot as plt\n",
    "from qho import QuantumHarmonicOscillator"
   ]
  },
  {
   "cell_type": "markdown",
   "metadata": {},
   "source": [
    "### Mathematical Overview\n",
    "\n",
    "#### Reduced Mass of Diatomic Molecule\n",
    "Given m_1 and m_2 which are masses in kg of each atom in a diatomic molecule:\n",
    "$$ m_r = {m_1m_2 \\over m_1+m_2} $$\n",
    "\n",
    "#### Quantum Number\n",
    "$$ v = 0, 1, 2, ... $$\n",
    "\n",
    "#### Energy levels\n",
    "$$ \\omega = \\left(k \\over m_r\\right)^{1/2} $$\n",
    "$$ E_v = \\left(v + {1 \\over 2} \\right) \\hbar \\omega $$\n",
    "\n",
    "#### Wavefunction\n",
    "The wavefunction is composed of three factors:\n",
    "1. A normalization factor,\n",
    "2. A Hermite polynomial, and\n",
    "3. An exponential function\n",
    "\n",
    "##### Variables to simplify the expression\n",
    "$$ \\alpha = \\left( {\\hbar^2 \\over m_r k} \\right)^{1/4} $$\n",
    "$$ \\gamma = {x \\over \\alpha} $$\n",
    "\n",
    "##### Normalization\n",
    "$$ N_v = \\left( {1 \\over \\alpha \\pi^{1/2} 2^v v!} \\right)^{1/2} $$\n",
    "\n",
    "##### Hermite polynomials\n",
    "The Hermite polynomial needed depends on the value of the quantum number v. Here are the first three Hermite polynomials:\n",
    "$$ H_0(\\gamma) = 1 $$\n",
    "$$ H_1(\\gamma) = 2\\gamma $$\n",
    "$$ H_2(\\gamma) = 4\\gamma^2-2 $$\n",
    "The `QuantumHarmonicOscillator` class supports the first 6 such polynomials.\n",
    "\n",
    "##### Pulling these pieces together\n",
    "$$ \\psi_v = N_vH_v(\\gamma)e^{-\\gamma^2 \\over 2} $$"
   ]
  },
  {
   "cell_type": "markdown",
   "metadata": {},
   "source": []
  }
 ],
 "metadata": {
  "kernelspec": {
   "display_name": "quantum-harmonic-oscillator",
   "language": "python",
   "name": "python3"
  },
  "language_info": {
   "codemirror_mode": {
    "name": "ipython",
    "version": 3
   },
   "file_extension": ".py",
   "mimetype": "text/x-python",
   "name": "python",
   "nbconvert_exporter": "python",
   "pygments_lexer": "ipython3",
   "version": "3.11.5"
  }
 },
 "nbformat": 4,
 "nbformat_minor": 2
}
