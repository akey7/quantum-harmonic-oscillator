{
 "cells": [
  {
   "cell_type": "markdown",
   "metadata": {},
   "source": [
    "# Quantum Harmonic Oscillator: Energy Levels\n",
    "An animation of the energy levels in the quantum harmoic oscillator.\n",
    "\n",
    "Citations:\n",
    "\n",
    "1. Atkins, P. W. & De Paula, J. Atkins’ Physical chemistry. (W.H. Freeman, 2006). Pages 290-207.\n",
    "2. [Vibration-Rotation Spectrum of HCl on HyperPhysics](http://hyperphysics.phy-astr.gsu.edu/hbase/molecule/vibrot.html#c2)"
   ]
  },
  {
   "cell_type": "code",
   "execution_count": 1,
   "metadata": {},
   "outputs": [],
   "source": [
    "import matplotlib.pyplot as plt\n",
    "from qho import QuantumHarmonicOscillator"
   ]
  },
  {
   "cell_type": "markdown",
   "metadata": {},
   "source": [
    "## Calculating <sup>1</sup>H<sup>35</sup>Cl\n",
    "The <sup>1</sup>H<sup>35</sup>Cl molecule has the following bond force constant (k) and reduced mass (m<sub>r</sub>):\n",
    "$$ k = 481 N/m $$\n",
    "$$ m_r = 1.627 \\times 10^{-27} kg $$\n",
    "\n",
    "### Set the values in variables"
   ]
  },
  {
   "cell_type": "code",
   "execution_count": 3,
   "metadata": {},
   "outputs": [],
   "source": [
    "k = 481.  # Bond force constant\n",
    "mass_r = 1.627e-27  # Reduced mass\n",
    "x_min = -0.5e-10  # Minimum distance to plot in meters\n",
    "x_max = 0.5e-10  # Maximum distance to plot in meters\n",
    "n_points = 1000  # Number of points to to calculate between the min and max\n",
    "\n",
    "qho = QuantumHarmonicOscillator(k=k, mass_r=mass_r)"
   ]
  },
  {
   "cell_type": "markdown",
   "metadata": {},
   "source": [
    "### Plot energy levels, still\n",
    "Note that, for an **ideal** quantum harmonic oscillator, the energy levels are evenly spaced. Also note that, at the bottom energy level of v=0, there is still some energy in the system. This is the zero-point energy of the oscillator."
   ]
  },
  {
   "cell_type": "code",
   "execution_count": 4,
   "metadata": {},
   "outputs": [
    {
     "data": {
      "image/png": "[encoded data removed]",
      "text/plain": [
       "<Figure size 200x500 with 1 Axes>"
      ]
     },
     "metadata": {},
     "output_type": "display_data"
    }
   ],
   "source": [
    "energies = [qho.energy(v) for v in range(qho.max_v()+1)]\n",
    "fig, ax = plt.subplots(nrows=1, ncols=1, figsize=(2, 5))\n",
    "ax.set_ylim(0., max(energies)*1.1)\n",
    "ax.set_xticks([])\n",
    "ax.set_ylabel('J', size=15, color='b')\n",
    "ax.set_title(f'Energy Levels, v=0 to v={qho.max_v()}', size=15, color='r')\n",
    "for energy in energies:\n",
    "    ax.axhline(energy)"
   ]
  },
  {
   "cell_type": "code",
   "execution_count": null,
   "metadata": {},
   "outputs": [],
   "source": []
  }
 ],
 "metadata": {
  "kernelspec": {
   "display_name": "quantum-harmonic-oscillator",
   "language": "python",
   "name": "python3"
  },
  "language_info": {
   "codemirror_mode": {
    "name": "ipython",
    "version": 3
   },
   "file_extension": ".py",
   "mimetype": "text/x-python",
   "name": "python",
   "nbconvert_exporter": "python",
   "pygments_lexer": "ipython3",
   "version": "3.11.5"
  }
 },
 "nbformat": 4,
 "nbformat_minor": 2
}
