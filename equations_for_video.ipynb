{
 "cells": [
  {
   "cell_type": "markdown",
   "metadata": {},
   "source": [
    "### <sup>1</sup>H<sup>35</sup>Cl\n",
    "$$ \\mu = {m_1 m_2 \\over m_1 + m_2}, \\omega = \\left( {k \\over \\mu} \\right)^{1/2}, E_v = \\left(v + {1 \\over 2}\\right)\\hbar\\omega $$\n",
    "$$ k = 481 N/m, \\mu = 1.627 \\times 10^{-27} kg $$\n",
    "\n",
    "### v=0\n",
    "$$ \\alpha = \\left( {\\hbar^2 \\over \\mu k} \\right)^{1/4}, N_v = \\left( {1 \\over \\alpha \\pi^{1/2} 2^v v!} \\right)^{1/2}, \\gamma = {x \\over \\alpha} $$\n",
    "$$ H_0(\\gamma) = 1 $$\n",
    "$$ \\psi_0 = N_0H_0(\\gamma)e^{-\\gamma^2 \\over 2} $$\n",
    "\n",
    "### v=1\n",
    "$$ \\alpha = \\left( {\\hbar^2 \\over \\mu k} \\right)^{1/4}, N_v = \\left( {1 \\over \\alpha \\pi^{1/2} 2^v v!} \\right)^{1/2}, \\gamma = {x \\over \\alpha} $$\n",
    "$$ H_1(\\gamma) = 2\\gamma $$\n",
    "$$ \\psi_1 = N_1H_1(\\gamma)e^{-\\gamma^2 \\over 2} $$\n",
    "\n",
    "### v=2\n",
    "$$ \\alpha = \\left( {\\hbar^2 \\over \\mu k} \\right)^{1/4}, N_v = \\left( {1 \\over \\alpha \\pi^{1/2} 2^v v!} \\right)^{1/2}, \\gamma = {x \\over \\alpha} $$\n",
    "$$ H_2(\\gamma) = 4\\gamma^2-2 $$\n",
    "$$ \\psi_2 = N_2H_2(\\gamma)e^{-\\gamma^2 \\over 2} $$\n",
    "\n",
    "### v=3\n",
    "$$ \\alpha = \\left( {\\hbar^2 \\over \\mu k} \\right)^{1/4}, N_v = \\left( {1 \\over \\alpha \\pi^{1/2} 2^v v!} \\right)^{1/2}, \\gamma = {x \\over \\alpha} $$\n",
    "$$ H_3(\\gamma) = 8\\gamma^3-12\\gamma $$\n",
    "$$ \\psi_3 = N_3H_3(\\gamma)e^{-\\gamma^2 \\over 2} $$\n",
    "\n",
    "### v=4\n",
    "$$ \\alpha = \\left( {\\hbar^2 \\over \\mu k} \\right)^{1/4}, N_v = \\left( {1 \\over \\alpha \\pi^{1/2} 2^v v!} \\right)^{1/2}, \\gamma = {x \\over \\alpha} $$\n",
    "$$ H_4(\\gamma) = 16\\gamma^4-48\\gamma^2+12 $$\n",
    "$$ \\psi_4 = N_4H_4(\\gamma)e^{-\\gamma^2 \\over 2} $$\n",
    "\n",
    "### v=5\n",
    "$$ \\alpha = \\left( {\\hbar^2 \\over \\mu k} \\right)^{1/4}, N_v = \\left( {1 \\over \\alpha \\pi^{1/2} 2^v v!} \\right)^{1/2}, \\gamma = {x \\over \\alpha} $$\n",
    "$$ H_5(\\gamma) = 32\\gamma^5-160\\gamma^3+120\\gamma $$\n",
    "$$ \\psi_5 = N_5H_5(\\gamma)e^{-\\gamma^2 \\over 2} $$\n",
    "\n",
    "### v=6\n",
    "$$ \\alpha = \\left( {\\hbar^2 \\over \\mu k} \\right)^{1/4}, N_v = \\left( {1 \\over \\alpha \\pi^{1/2} 2^v v!} \\right)^{1/2}, \\gamma = {x \\over \\alpha} $$\n",
    "$$ H_6 = 64\\gamma^6-480\\gamma^4+720\\gamma^2-120 $$\n",
    "$$ \\psi_6 = N_6H_6(\\gamma)e^{-\\gamma^2 \\over 2} $$"
   ]
  },
  {
   "cell_type": "markdown",
   "metadata": {},
   "source": []
  }
 ],
 "metadata": {
  "language_info": {
   "name": "python"
  }
 },
 "nbformat": 4,
 "nbformat_minor": 2
}
